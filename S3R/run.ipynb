version https://git-lfs.github.com/spec/v1
oid sha256:ade88482fbb8f8f953d5f7e529372b8492784a4210ffaa0d65e55b7eef564aa6
size 43384
