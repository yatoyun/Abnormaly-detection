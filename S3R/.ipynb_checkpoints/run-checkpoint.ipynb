version https://git-lfs.github.com/spec/v1
oid sha256:b1d164b881d7fe7c5dce50c436c073b6d5967dabc8773c65df15f765db61bce3
size 9417
